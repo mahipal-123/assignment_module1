{
 "cells": [
  {
   "cell_type": "code",
   "execution_count": 10,
   "id": "dab2d58e",
   "metadata": {},
   "outputs": [
    {
     "name": "stdout",
     "output_type": "stream",
     "text": [
      "[5, 7, 5, 22, 55, 99, 5, 7, 88, 45, 12]\n"
     ]
    }
   ],
   "source": [
    "1.#What is List? How will you reverse a list?\n",
    "''' ans -  list are used to store multiple items in single variable.\n",
    "             The reverse() method is a built-in method that reverse the list in place. '''\n",
    "lst=[12,45,88,7,5,99,55,22,5,7,5]\n",
    "lst.reverse()\n",
    "print(lst)"
   ]
  },
  {
   "cell_type": "code",
   "execution_count": 25,
   "id": "ebe48450",
   "metadata": {},
   "outputs": [
    {
     "name": "stdout",
     "output_type": "stream",
     "text": [
      "[2, 33, 222, 14, 25]\n",
      "[2, 33, 222, 14]\n"
     ]
    }
   ],
   "source": [
    "2.#How will you remove last object from a list? Suppose list1 is [2, 33, 222, 14, and 25], what is list1 [-1]? \n",
    "my_list=[2,33,222,14,25]\n",
    "print(my_list)\n",
    "my_list.pop(-1)\n",
    "print(my_list)"
   ]
  },
  {
   "cell_type": "code",
   "execution_count": 58,
   "id": "ecb80283",
   "metadata": {},
   "outputs": [
    {
     "name": "stdout",
     "output_type": "stream",
     "text": [
      "[4544, 55, 8, 2, 8, 2, 555, 4, ['mahipal', 'Ayush']]\n",
      "[4544, 55, 8, 2, 8, 2, 555, 4, 'mahipal', 'Ayush']\n"
     ]
    }
   ],
   "source": [
    "3.#Differentiate between append () and extend () methods?\n",
    "'''     append()                                                                 extend()\n",
    "> This is used for add new list in other list   > This is used for add element in other list\n",
    "    (nested list)                                               \n",
    "'''\n",
    "#append()              \n",
    "lst_1=[4544,55,8,2,8,2,555,4]\n",
    "lst_2=['mahipal','Ayush']\n",
    "lst_1.append(lst_2)\n",
    "print(lst_1)\n",
    "#extend()\n",
    "lst_1=[4544,55,8,2,8,2,555,4]\n",
    "lst_2=['mahipal','Ayush']\n",
    "lst_1.extend(lst_2)\n",
    "print(lst_1)\n"
   ]
  },
  {
   "cell_type": "code",
   "execution_count": 118,
   "id": "f312deb6",
   "metadata": {},
   "outputs": [
    {
     "name": "stdout",
     "output_type": "stream",
     "text": [
      "How many numbers: 2\n",
      "Enter number 2\n",
      "Enter number 2\n",
      "Maximum element in the list is : 2\n",
      "Minimum element in the list is : 2\n",
      " sum element in the list is : 4\n"
     ]
    }
   ],
   "source": [
    "'''4.Write a Python function to get the largest number, smallest num and sum\n",
    "of all from a list. '''\n",
    "lst = []\n",
    "num = int(input('How many numbers: '))\n",
    "for n in range(num):\n",
    "    numbers = int(input('Enter number '))\n",
    "    lst.append(numbers)\n",
    "print(\"Maximum element in the list is :\", max(lst))\n",
    "print(\"Minimum element in the list is :\", min(lst))\n",
    "print(\" sum element in the list is :\", sum(lst))"
   ]
  },
  {
   "cell_type": "code",
   "execution_count": 16,
   "id": "338fd5a2",
   "metadata": {},
   "outputs": [
    {
     "name": "stdout",
     "output_type": "stream",
     "text": [
      "The list1 and list2 are not equal\n"
     ]
    }
   ],
   "source": [
    "5.#How will you compare two lists? \n",
    "list1 = [11, 12, 13, 14, 15]  \n",
    "list2 = [12, 13, 11, 15, 14]  \n",
    "if list1== list2:  \n",
    "    print(\"The list1 and list2 are equal\")  \n",
    "else:  \n",
    "    print(\"The list1 and list2 are not equal\")  "
   ]
  },
  {
   "cell_type": "code",
   "execution_count": 15,
   "id": "f43055ec",
   "metadata": {},
   "outputs": [
    {
     "name": "stdout",
     "output_type": "stream",
     "text": [
      "3\n"
     ]
    }
   ],
   "source": [
    "'''6.Write a Python program to count the number of strings where the string\n",
    "length is 2 or more and the first and last character are same from a given\n",
    "list of strings. '''\n",
    "lst=[\"mademm\",\"3643\",\"apple\",\"3756\",\"33\"]\n",
    "count = 0\n",
    "for x in lst:\n",
    "\tif len(x) >= 2 and x[0] == x[-1]:\n",
    "\t   count+= 1\n",
    "print(count)"
   ]
  },
  {
   "cell_type": "code",
   "execution_count": null,
   "id": "cdbb4a1b",
   "metadata": {},
   "outputs": [],
   "source": [
    "7.#Write a Python program to remove duplicates from a list?\n",
    "l1=[1,11,1,1,1,1,5,5,5,4,5,4,5,6,8,8,6,6,6]\n",
    "unique_list=[]\n",
    "for i in l1:\n",
    "    if i not in unique_list:\n",
    "        unique_list.append(i)\n",
    "    else:\n",
    "        pass\n",
    "dup=unique_list\n",
    "print(dup)"
   ]
  },
  {
   "cell_type": "code",
   "execution_count": null,
   "id": "70bf21a6",
   "metadata": {},
   "outputs": [],
   "source": [
    "8.#Write a Python program to check a list is empty or not?\n",
    "lst = [1,2,1,2]     #using not operator\n",
    "if not lst:\n",
    "  print(\"List is empty\")\n",
    "else:\n",
    "    print(\"list is not empty\")\n",
    "#using len()\n",
    "\n",
    "lst = []\n",
    "\n",
    "# Checking whether the list size is equal to 0\n",
    "if len(lst) == 0:\n",
    "   print('Empty list')\n",
    "else:\n",
    "   print('Not Empty list')"
   ]
  },
  {
   "cell_type": "code",
   "execution_count": 18,
   "id": "c1e5ada3",
   "metadata": {},
   "outputs": [
    {
     "name": "stdout",
     "output_type": "stream",
     "text": [
      "True\n"
     ]
    }
   ],
   "source": [
    "9.#Write a Python function that takes two lists and returns true if they have at least one common member?\n",
    "list_1=[1,2,3,4,5,6]\n",
    "list_2=[6,7,8,9,10,11]\n",
    "result=False\n",
    "for i in list_1:\n",
    "    for j in list_2:\n",
    "        if i==j:\n",
    "            result=True\n",
    "print(result)"
   ]
  },
  {
   "cell_type": "code",
   "execution_count": 19,
   "id": "ad774724",
   "metadata": {},
   "outputs": [
    {
     "name": "stdout",
     "output_type": "stream",
     "text": [
      "[1, 4, 9, 16, 25]\n",
      "[256, 289, 324, 361, 400]\n"
     ]
    }
   ],
   "source": [
    "10.#Write a Python program to generate and print a list of first and last 5 elements where the values are square of numbers between 1 and 30?\n",
    "l = list()\n",
    "for i in range(1,21):\n",
    "\tl.append(i**2)\n",
    "print(l[:5])#Squres of first 5 (1,2,3,4,5)\n",
    "print(l[-5:])#Squres of last 5 (20,19,18,17,16)"
   ]
  },
  {
   "cell_type": "code",
   "execution_count": 20,
   "id": "1311a764",
   "metadata": {},
   "outputs": [
    {
     "name": "stdout",
     "output_type": "stream",
     "text": [
      "[1, 2, 4, 5, 7]\n"
     ]
    }
   ],
   "source": [
    "11.#Write a Python function that takes a list and returns a new list with unique elements of the first list?\n",
    "lst_1=[1,1,1,2,2,4,5,7,5]\n",
    "blank=[]\n",
    "for i in lst_1:\n",
    "    if i not in blank:\n",
    "        blank.append(i)\n",
    "    else:\n",
    "        pass\n",
    "print(list(blank))"
   ]
  },
  {
   "cell_type": "code",
   "execution_count": 21,
   "id": "090d6aff",
   "metadata": {},
   "outputs": [
    {
     "name": "stdout",
     "output_type": "stream",
     "text": [
      "Tops\n"
     ]
    }
   ],
   "source": [
    "12.#Write a Python program to convert a list of characters into a string?\n",
    "list_1= ['T', 'o', 'p', 's']\n",
    "str1 =''.join(list_1)\n",
    "print(str1)"
   ]
  },
  {
   "cell_type": "code",
   "execution_count": null,
   "id": "7983f088",
   "metadata": {},
   "outputs": [],
   "source": [
    "13.#Write a Python program to select an item randomly from a list?\n",
    "import random\n",
    "color_list = ['Red', 'Blue', 'Green', 'White', 'Black']\n",
    "print(random.choice(color_list))"
   ]
  },
  {
   "cell_type": "code",
   "execution_count": null,
   "id": "548d5677",
   "metadata": {},
   "outputs": [],
   "source": [
    "14.#Write a Python program to find the second smallest number in a list?\n",
    "list1=[12, 45, 2, 41, 31, 10, 8, 6, 4]\n",
    "length = len(list1)\n",
    "list1.sort()\n",
    "print(\"Largest element is:\", list1[length-1])\n",
    "print(\"Smallest element is:\", list1[0])\n",
    "print(\"Second Largest element is:\", list1[length-2])\n",
    "print(\"Second Smallest element is:\", list1[1])\n",
    " "
   ]
  },
  {
   "cell_type": "code",
   "execution_count": null,
   "id": "ec062856",
   "metadata": {},
   "outputs": [],
   "source": [
    "15.#Write a Python program to get unique values from a list?\n",
    "list_1=[1,11,2,11,2,44,5,4,5,4,1,1,1,25]\n",
    "blank=[]\n",
    "for i in list_1:\n",
    "    if i not in blank:\n",
    "        blank.append(i)\n",
    "print(blank)"
   ]
  },
  {
   "cell_type": "code",
   "execution_count": null,
   "id": "8c17f16d",
   "metadata": {},
   "outputs": [],
   "source": [
    "16.#Write a Python program to check whether a list contains a sub list?\n",
    "l1=[1,2,[3,4,5],6,7]\n",
    "l2=[3,4,5]\n",
    "if l2 in l1:\n",
    "    print(\"This is sub list\")\n",
    "else:\n",
    "    print(\"Not a sub list\")"
   ]
  },
  {
   "cell_type": "code",
   "execution_count": null,
   "id": "3b7c0cc7",
   "metadata": {},
   "outputs": [],
   "source": [
    "17.#Write a Python program to split a list into different variables?\n",
    "color = [[\"Black\", \"#000000\", \"rgb(0, 0, 0)\"], [\"Red\", \"#FF0000\", \"rgb(255, 0, 0)\"],\n",
    "         [\"orange\", \"#FFFF00\", \"rgb(255, 255, 0)\"], [\"pink\", \"#FFFF00\", \"rgb(255, 255, 0)\"]]\n",
    "var1, var2, var3,var4 = color\n",
    "print(var1)\n",
    "print(var2)\n",
    "print(var3)\n",
    "print(var4) "
   ]
  },
  {
   "cell_type": "code",
   "execution_count": 32,
   "id": "8a1ba057",
   "metadata": {},
   "outputs": [
    {
     "data": {
      "text/plain": [
       "' Ans:- Tuple is represented by ( ) if only one element in tuple so after\\n            mention comma, then it is define tuple\\n            length of tuple is fixed and immutable. \\n            length of list is not fixed and mutable.\\n            '"
      ]
     },
     "execution_count": 32,
     "metadata": {},
     "output_type": "execute_result"
    }
   ],
   "source": [
    "18.#What is tuple? Difference between list and tuple?\n",
    "''' Ans:- Tuple is represented by ( ) if only one element in tuple so after\n",
    "            mention comma, then it is define tuple\n",
    "            length of tuple is fixed and immutable. \n",
    "            length of list is not fixed and mutable.\n",
    "            '''\n",
    "\n",
    "      "
   ]
  },
  {
   "cell_type": "code",
   "execution_count": 33,
   "id": "cb3de134",
   "metadata": {},
   "outputs": [
    {
     "name": "stdout",
     "output_type": "stream",
     "text": [
      "('Tops', False, 45.8, 4)\n"
     ]
    }
   ],
   "source": [
    "19.#Write a Python program to create a tuple with different data types?\n",
    "tuple_1=('Tops',False,45.8,4)\n",
    "print(tuple_1)"
   ]
  },
  {
   "cell_type": "code",
   "execution_count": 34,
   "id": "cb49a9c2",
   "metadata": {},
   "outputs": [
    {
     "name": "stdout",
     "output_type": "stream",
     "text": [
      "(0, 1, 2, 3, 4, 5, 6, 7)\n"
     ]
    }
   ],
   "source": [
    "20.#Write a Python program to create a tuple with numbers?\n",
    "tuple_number=(0,1,2,3,4,5,6,7)\n",
    "print(tuple_number)"
   ]
  },
  {
   "cell_type": "code",
   "execution_count": 35,
   "id": "722ebe00",
   "metadata": {},
   "outputs": [
    {
     "name": "stdout",
     "output_type": "stream",
     "text": [
      "('Hello', 45, 78, 99)\n",
      "['Hello', 45, 78, 99]\n",
      "<class 'list'>\n"
     ]
    }
   ],
   "source": [
    "21.#Write a Python program to convert a tuple to a string?\n",
    "tuple_1=(\"Hello\",45,78,99)\n",
    "print(tuple_1)\n",
    "list_1=list(tuple_1)\n",
    "print(list_1)\n",
    "print(type(list_1))"
   ]
  },
  {
   "cell_type": "code",
   "execution_count": 36,
   "id": "d8e88bc2",
   "metadata": {},
   "outputs": [
    {
     "name": "stdout",
     "output_type": "stream",
     "text": [
      "True\n",
      "True\n",
      "False\n"
     ]
    }
   ],
   "source": [
    "22.#Write a Python program to check whether an element exists within a tuple?\n",
    "tuple1=(\"hello\",45,78,78,2222,22,5)\n",
    "print(\"hello\" in tuple1)\n",
    "print(22 in tuple1)\n",
    "print(88 in tuple1)"
   ]
  },
  {
   "cell_type": "code",
   "execution_count": 40,
   "id": "069de191",
   "metadata": {},
   "outputs": [
    {
     "name": "stdout",
     "output_type": "stream",
     "text": [
      "9\n"
     ]
    }
   ],
   "source": [
    "23.#Write a Python program to find the length of a tuple? \n",
    "tuple1=(\"hii\",7,4,7,58,2,8,6,777)\n",
    "print(len(tuple1))"
   ]
  },
  {
   "cell_type": "code",
   "execution_count": 41,
   "id": "4af70082",
   "metadata": {},
   "outputs": [
    {
     "name": "stdout",
     "output_type": "stream",
     "text": [
      "[45, 47, 8, 7, 22, 5, 87, 7]\n",
      "(45, 47, 8, 7, 22, 5, 87, 7)\n"
     ]
    }
   ],
   "source": [
    "24.#Write a Python program to convert a list to a tuple?\n",
    "list1=[45,47,8,7,22,5,87,7]\n",
    "print(list1)\n",
    "tuple1=tuple(list1)\n",
    "print(tuple1)"
   ]
  },
  {
   "cell_type": "code",
   "execution_count": 42,
   "id": "8ccc432b",
   "metadata": {},
   "outputs": [
    {
     "name": "stdout",
     "output_type": "stream",
     "text": [
      "(1, 54, 'k', 7, 5, 'mit')\n",
      "('mit', 5, 7, 'k', 54)\n"
     ]
    }
   ],
   "source": [
    "25.#Write a Python program to reverse a tuple?\n",
    "tuple1=(1,54,\"k\",7,5,\"mit\")\n",
    "print(tuple1)\n",
    "print(tuple1[-1:0:-1])\n",
    "        "
   ]
  },
  {
   "cell_type": "code",
   "execution_count": 44,
   "id": "335a468c",
   "metadata": {},
   "outputs": [
    {
     "name": "stdout",
     "output_type": "stream",
     "text": [
      "[(10, 20, 'hello')]\n"
     ]
    }
   ],
   "source": [
    "26.#Write a Python program to replace last value of tuples in a list? \n",
    "list1 = [(10, 20, 40)]\n",
    "print([replace[:-1] + (\"hello\",) for replace in list1] )"
   ]
  },
  {
   "cell_type": "code",
   "execution_count": 45,
   "id": "b87ef639",
   "metadata": {},
   "outputs": [
    {
     "name": "stdout",
     "output_type": "stream",
     "text": [
      "(2, 34, 45, 6, 7, 2, 4, 5, 78, 34, 2)\n",
      "3\n"
     ]
    }
   ],
   "source": [
    "27.#Write a Python program to find the repeated items of a tuple?\n",
    "t = (2,34,45,6,7,2,4,5,78,34,2)\n",
    "print(t)\n",
    "count = t.count(2) #check 2 is how many times repeated in tuple\n",
    "print(count)"
   ]
  },
  {
   "cell_type": "code",
   "execution_count": 119,
   "id": "83bdb2fa",
   "metadata": {},
   "outputs": [
    {
     "name": "stdout",
     "output_type": "stream",
     "text": [
      "[('hari', '15', '8'), ('syam', 'radha'), ('krishna', '', '45'), ('', '')]\n"
     ]
    }
   ],
   "source": [
    "28.#Write a Python program to remove an empty tuple(s) from a list of tuples?\n",
    "def remove(tuples):\n",
    "    for i in tuples:\n",
    "        if(i==()):\n",
    "            tuples.remove(i)\n",
    "    return tuples\n",
    "tuples = [(), ('hari','15','8'), (), ('syam', 'radha'),('krishna', '', '45'), ('',''),()]\n",
    "print(Remove(tuples))\n",
    "    "
   ]
  },
  {
   "cell_type": "code",
   "execution_count": 47,
   "id": "17b0ebdb",
   "metadata": {},
   "outputs": [
    {
     "name": "stdout",
     "output_type": "stream",
     "text": [
      "[(1, 3, 8), (2, 4, 4)]\n"
     ]
    }
   ],
   "source": [
    "29.# Write a Python program to unzip a list of tuples into individual lists?\n",
    "l = [(1,2), (3,4), (8,4)] # list of tuples \n",
    "print(list(zip(*l))) # Zip and individual lists"
   ]
  },
  {
   "cell_type": "code",
   "execution_count": 65,
   "id": "acd212e7",
   "metadata": {},
   "outputs": [
    {
     "name": "stdout",
     "output_type": "stream",
     "text": [
      "{'ayush': 10, 'ashish': 12, 'Mahipal': 14, 'parth': 20, 'prem': 25, 'shiv': 30}\n"
     ]
    }
   ],
   "source": [
    "30.#Write a Python program to convert a list of tuples into a dictionary?\n",
    "#first method\n",
    "'''def conv(tup,dic): #function define \n",
    "    dic=dict(tup) #convert tuple to dict and stored dic variable     \n",
    "    return dic \n",
    "tup = [(\"ayush\", 10), (\"ashish\", 12), (\"Mahipal\", 14),(\"parth\", 20), (\"prem\", 25), (\"shiv\", 30)]\n",
    "dics={}\n",
    "print(conv(tup,dics))'''\n",
    "#second method \n",
    "tup = [(\"ayush\", 10), (\"ashish\", 12), (\"Mahipal\", 14),(\"parth\", 20), (\"prem\", 25), (\"shiv\", 30)]\n",
    "dics={}\n",
    "dic = dict(tup)\n",
    "print(dic)"
   ]
  },
  {
   "cell_type": "code",
   "execution_count": 50,
   "id": "f6569cad",
   "metadata": {},
   "outputs": [
    {
     "name": "stdout",
     "output_type": "stream",
     "text": [
      "{'AL': 45, 'Q': 45}\n"
     ]
    }
   ],
   "source": [
    "31.#How will you create a dictionary using tuples in python?\n",
    "tuple1=((\"AL\",45),(\"Q\",45)) #create tuple \n",
    "dic=dict(tuple1) #dict function to convert tuple to dictionary\n",
    "print(dic) "
   ]
  },
  {
   "cell_type": "code",
   "execution_count": 51,
   "id": "28882fc9",
   "metadata": {},
   "outputs": [
    {
     "name": "stdout",
     "output_type": "stream",
     "text": [
      "Sorted dictionary is :\n",
      "[(1, 'a'), (2, 'b'), (3, 'c'), (4, 'd')]\n"
     ]
    }
   ],
   "source": [
    "32.#Write a Python script to sort (ascending and descending) a dictionary by value?\n",
    "my_dict = {'c': 3,\n",
    "           'a': 1,\n",
    "           'd': 4,\n",
    "           'b': 2}\n",
    " \n",
    "sorted_dict = sorted([(value, key)\n",
    "for (key, value) in my_dict.items()])\n",
    "\n",
    "print(\"Sorted dictionary is :\")\n",
    "print(sorted_dict)"
   ]
  },
  {
   "cell_type": "code",
   "execution_count": 52,
   "id": "62209b09",
   "metadata": {},
   "outputs": [
    {
     "name": "stdout",
     "output_type": "stream",
     "text": [
      "Object `one` not found.\n",
      "{1: 10, 2: 20, 3: 30, 4: 40, 5: 50, 6: 60}\n"
     ]
    }
   ],
   "source": [
    "33.Write a Python script to concatenate following dictionaries to create a new one?\n",
    "dic1={1:10, 2:20}\n",
    "dic2={3:30, 4:40}\n",
    "dic3={5:50,6:60}\n",
    "dic4 = {}\n",
    "for d in (dic1, dic2, dic3):\n",
    "    dic4.update(d)\n",
    "print(dic4)"
   ]
  },
  {
   "cell_type": "code",
   "execution_count": 53,
   "id": "59dbe0b9",
   "metadata": {},
   "outputs": [
    {
     "name": "stdout",
     "output_type": "stream",
     "text": [
      "Present,  value = 100\n"
     ]
    }
   ],
   "source": [
    "34.#Write a Python script to check if a given key already exists in a dictionary?\n",
    "dic = {'a': 100, 'b':200, 'c':300}\n",
    "key = 'a'\n",
    "if key in dic.keys():\n",
    "    print(\"Present, \", end =\" \")\n",
    "    print(\"value =\", dic[key])\n",
    "else:\n",
    "        print(\"Not present\")    "
   ]
  },
  {
   "cell_type": "code",
   "execution_count": 54,
   "id": "e3c225fb",
   "metadata": {},
   "outputs": [
    {
     "name": "stdout",
     "output_type": "stream",
     "text": [
      "desert safari\n",
      "year 2024\n",
      "rajasthan jaisalmer\n",
      "mobile 7745866666\n"
     ]
    }
   ],
   "source": [
    "35.#How Do You Traverse Through A Dictionary Object In Python?\n",
    "dictionary = { \n",
    "   'desert': 'safari', \n",
    "   'year': '2024', \n",
    "   'rajasthan': 'jaisalmer', \n",
    "   'mobile': '7745866666' \n",
    "}\n",
    "\n",
    "for keys, values in dictionary.items(): \n",
    "   print(keys ,values)"
   ]
  },
  {
   "cell_type": "code",
   "execution_count": 55,
   "id": "3501aac5",
   "metadata": {},
   "outputs": [
    {
     "name": "stdout",
     "output_type": "stream",
     "text": [
      "Not Present\n"
     ]
    }
   ],
   "source": [
    "36.#How Do You Check The Presence Of A Key In A Dictionary?\n",
    "dic = {'a': 100, 'b':200, 'c':300}\n",
    " \n",
    "# check if \"b\" is none or not.\n",
    "if dic.get('d') == None:\n",
    "  print(\"Not Present\")\n",
    "else:\n",
    "  print(\"Present\")"
   ]
  },
  {
   "cell_type": "code",
   "execution_count": 56,
   "id": "a0a63961",
   "metadata": {},
   "outputs": [
    {
     "name": "stdout",
     "output_type": "stream",
     "text": [
      "{1: 1, 2: 2, 3: 3, 4: 4, 5: 5, 6: 6, 7: 7, 8: 8, 9: 9, 10: 10, 11: 11, 12: 12, 13: 13, 14: 14, 15: 15}\n"
     ]
    }
   ],
   "source": [
    "37.#Write a Python script to print a dictionary where the keys are number between 1 and 15?\n",
    "d=dict()\n",
    "for x in range(1,16):\n",
    "    d[x]=x\n",
    "print(d)  "
   ]
  },
  {
   "cell_type": "code",
   "execution_count": 57,
   "id": "31cdacf6",
   "metadata": {},
   "outputs": [
    {
     "name": "stdout",
     "output_type": "stream",
     "text": [
      "False\n",
      "True\n"
     ]
    }
   ],
   "source": [
    "38.#Write a Python program to check multiple keys exists in a dictionary\n",
    "sports = {\"geeksforgeeks\" : 1, \"practice\" : 2, \"contribute\" :3}\n",
    "print(sports.keys() >= {\"geeksforgeeks\", \"om\"})\n",
    "print(sports.keys()>={\"contribute\", \"practice\",\"geeksforgeeks\"})"
   ]
  },
  {
   "cell_type": "code",
   "execution_count": 61,
   "id": "7d36e18d",
   "metadata": {},
   "outputs": [
    {
     "name": "stdout",
     "output_type": "stream",
     "text": [
      "{'a': 200, 'b': 400, 'x': 500, 'y': 200}\n"
     ]
    }
   ],
   "source": [
    "39.#Write a Python script to merge two Python dictionaries\n",
    "d1 = {'a': 200, 'b': 400}\n",
    "d2 = {'x': 500, 'y': 200}\n",
    "d = d1.copy()\n",
    "d.update(d2)\n",
    "print(d)"
   ]
  },
  {
   "cell_type": "code",
   "execution_count": 63,
   "id": "b3faef63",
   "metadata": {},
   "outputs": [
    {
     "name": "stdout",
     "output_type": "stream",
     "text": [
      "{'apple': 55, 'strawberry': 78, 'Banana': 110, 'watermelon': 60}\n"
     ]
    }
   ],
   "source": [
    "40.#Write a Python program to map two lists into a dictionary?\n",
    "fruits = ['apple', 'strawberry', 'Banana','watermelon']\n",
    "price = [55, 78, 110, 60]\n",
    "\n",
    "fruits_price = zip(fruits, price)\n",
    "\n",
    "fruits_dict = {}\n",
    "\n",
    "for key, value in fruits_price:\n",
    "    if key in fruits_dict:\n",
    "        pass \n",
    "    else:\n",
    "        fruits_dict[key] = value\n",
    "        \n",
    "print(fruits_dict)"
   ]
  },
  {
   "cell_type": "code",
   "execution_count": 64,
   "id": "6c2e4777",
   "metadata": {},
   "outputs": [
    {
     "name": "stdout",
     "output_type": "stream",
     "text": [
      "{'a': 10, 'b': 205, 'c': 45, 'd': 25}\n"
     ]
    }
   ],
   "source": [
    " '''41. Write a Python program to combine two dictionary adding values for common keys\n",
    "d1 = {'a': 100, 'b': 200, 'c':300} o d2 = {'a': 300, 'b': 200,’d’:400}\n",
    "Sample output: Counter ({'a': 400, 'b': 400,’d’: 400, 'c': 300}). '''\n",
    "def combine_dicts(dict1, dict2):\n",
    "    dict3 = dict1.copy()\n",
    "    for i, j in dict2.items():\n",
    "        if i in dict3:\n",
    "            dict3[i] += j\n",
    "        else:\n",
    "            dict3[i] = j\n",
    "\n",
    "    return dict3\n",
    "dict1 = {'a': 10, 'b': 200, 'c': 30}\n",
    "dict2 = {'b': 5, 'c': 15, 'd': 25}\n",
    "combined = combine_dicts(dict1, dict2)\n",
    "print(combined)"
   ]
  },
  {
   "cell_type": "code",
   "execution_count": 66,
   "id": "3550feac",
   "metadata": {},
   "outputs": [
    {
     "name": "stdout",
     "output_type": "stream",
     "text": [
      "{1, 2, 3, 4}\n"
     ]
    }
   ],
   "source": [
    "42.#Write a Python program to print all unique values in a dictionary?\n",
    "my_dict = {'a': 1, 'b': 2, 'c': 3, 'd': 2,'e':2,'f':4} \n",
    "unique_value = set() \n",
    "for value in my_dict.values():\n",
    "  unique_value.add(value)\n",
    "print(unique_value)"
   ]
  },
  {
   "cell_type": "code",
   "execution_count": 67,
   "id": "8c40582c",
   "metadata": {},
   "outputs": [
    {
     "data": {
      "text/plain": [
       "'\\n Ans :- Zip function is used in combined two or more iterable dictionary to one iterable\\n dictionary.\\n'"
      ]
     },
     "execution_count": 67,
     "metadata": {},
     "output_type": "execute_result"
    }
   ],
   "source": [
    "43.#Why Do You Use the Zip () Method in Python?\n",
    "'''\n",
    " Ans :- Zip function is used in combined two or more iterable dictionary to one iterable\n",
    " dictionary.\n",
    "'''"
   ]
  },
  {
   "cell_type": "code",
   "execution_count": 69,
   "id": "a21df70f",
   "metadata": {},
   "outputs": [
    {
     "data": {
      "text/plain": [
       "'44.\\nWrite a Python program to create and display all combinations of letters,\\nselecting each letter from a different key in a dictionary. \\n'"
      ]
     },
     "execution_count": 69,
     "metadata": {},
     "output_type": "execute_result"
    }
   ],
   "source": [
    "'''44.\n",
    "Write a Python program to create and display all combinations of letters,\n",
    "selecting each letter from a different key in a dictionary. \n",
    "'''"
   ]
  },
  {
   "cell_type": "code",
   "execution_count": 86,
   "id": "41c590d5",
   "metadata": {},
   "outputs": [
    {
     "name": "stdout",
     "output_type": "stream",
     "text": [
      "Dictionary with 3 highest values:\n",
      "Keys: Values\n",
      "[67, 23, 45, 56, 12, 69]\n"
     ]
    }
   ],
   "source": [
    "45.#Write a Python program to find the highest 3 values in a dictionary?\n",
    "my_dict = {'A': 67, 'B': 23, 'C': 45,\n",
    "           'D': 56, 'E': 12, 'F': 69}\n",
    "print(\"Dictionary with 3 highest values:\")\n",
    "print(\"Keys: Values\")\n",
    "x=list(my_dict.values())\n",
    "d=dict()\n",
    "print(x)"
   ]
  },
  {
   "cell_type": "code",
   "execution_count": 75,
   "id": "1e33eda3",
   "metadata": {},
   "outputs": [
    {
     "name": "stdout",
     "output_type": "stream",
     "text": [
      "{'item1': 1150, 'item2': 300}\n"
     ]
    }
   ],
   "source": [
    "46.#Write a Python program to combine values in python list of dictionaries? \n",
    "sample_data = [{'item': 'item1', 'amount': 400}, {'item': 'item2', 'amount': 300},\n",
    "               {'item': 'item1', 'amount': 750}]\n",
    "\n",
    "combined_data = {}\n",
    "\n",
    "for i in sample_data:\n",
    "    item = i['item']\n",
    "    amount = i['amount']\n",
    "    if item in combined_data:\n",
    "        combined_data[item] += amount\n",
    "    else:\n",
    "        combined_data[item] = amount\n",
    "\n",
    "print(combined_data)"
   ]
  },
  {
   "cell_type": "code",
   "execution_count": 76,
   "id": "783d18eb",
   "metadata": {},
   "outputs": [
    {
     "name": "stdout",
     "output_type": "stream",
     "text": [
      "{'T': 2, 'o': 3, 'p': 1, 's': 1, ' ': 1, 'e': 1, 'c': 1, 'h': 1, 'n': 1, 'l': 1, 'g': 1, 'y': 1}\n"
     ]
    }
   ],
   "source": [
    "47.#Write a Python program to create a dictionary from a string?\n",
    "def letter_count_dict(string):\n",
    "    letter_count = {}\n",
    "    for letter in string:\n",
    "        if letter in letter_count:\n",
    "            letter_count[letter] += 1\n",
    "        else:\n",
    "            letter_count[letter] = 1\n",
    "    return letter_count\n",
    "\n",
    "sample_string = 'Tops Technology'\n",
    "result = letter_count_dict(sample_string)\n",
    "print(result)"
   ]
  },
  {
   "cell_type": "code",
   "execution_count": 85,
   "id": "23f79eb4",
   "metadata": {},
   "outputs": [
    {
     "name": "stdout",
     "output_type": "stream",
     "text": [
      "The factorial of 5 is 120\n"
     ]
    }
   ],
   "source": [
    "48.#Write a Python function to calculate the factorial of a number (anonnegative integer)?\n",
    "def factorial(n):\n",
    "    if n < 0:\n",
    "        print(\"Factorial is not defined for negative numbers.\")\n",
    "    if n == 0 or n == 1:\n",
    "        return 1\n",
    "    else:\n",
    "        result = 1\n",
    "        for i in range(2, n + 1):\n",
    "            result *= i\n",
    "        return result\n",
    "num = 5\n",
    "fact = factorial(num)\n",
    "print(f\"The factorial of {num} is {fact}\")"
   ]
  },
  {
   "cell_type": "code",
   "execution_count": 79,
   "id": "2c61e54b",
   "metadata": {},
   "outputs": [
    {
     "name": "stdout",
     "output_type": "stream",
     "text": [
      "15 is in the range between 10 and 20.\n"
     ]
    }
   ],
   "source": [
    "49.#Write a Python function to check whether a number is in a given range?\n",
    "def range_bet(number, lower, upper):\n",
    "    return lower <= number <= upper\n",
    "num = 15\n",
    "lower = 10\n",
    "upper = 20\n",
    "if range_bet(num, lower, upper):\n",
    "    print(f\"{num} is in the range between {lower} and {upper}.\")\n",
    "else:\n",
    "    print(f\"{num} is not in the range between {lower} and {upper}.\")"
   ]
  },
  {
   "cell_type": "code",
   "execution_count": 94,
   "id": "9dd8ae82",
   "metadata": {},
   "outputs": [
    {
     "name": "stdout",
     "output_type": "stream",
     "text": [
      "Enter a number: 2\n",
      "2 is not a perfect number.\n"
     ]
    }
   ],
   "source": [
    "50.#Write a Python function to check whether a number is perfect or not? \n",
    "def perfect_number(number):\n",
    "    if number <= 0:\n",
    "        return False\n",
    "\n",
    "    divisors_sum = 0\n",
    "    for i in range(1, number):\n",
    "        if number % i == 0:\n",
    "            divisors_sum += i\n",
    "\n",
    "    return divisors_sum == number\n",
    "\n",
    "num = int(input(\"Enter a number: \"))\n",
    "if perfect_number(num):\n",
    "    print(num, \"is a perfect number.\")\n",
    "else:\n",
    "    print(num, \"is not a perfect number.\")"
   ]
  },
  {
   "cell_type": "code",
   "execution_count": 95,
   "id": "89ce5a5f",
   "metadata": {},
   "outputs": [
    {
     "name": "stdout",
     "output_type": "stream",
     "text": [
      "Enter string:-5\n",
      "The string is palindrome.\n"
     ]
    }
   ],
   "source": [
    "51.#Write a Python function that checks whether a passed string is palindrome or not?\n",
    "\n",
    "def pali(string):\n",
    "    if(string==string[::-1]):\n",
    "        return \"The string is palindrome.\"\n",
    "    else:\n",
    "        return \"The string is  not plalindrome\"\n",
    "string=input(\"Enter string:-\")\n",
    "print(pali(string))"
   ]
  },
  {
   "cell_type": "code",
   "execution_count": 97,
   "id": "b791f0c2",
   "metadata": {},
   "outputs": [
    {
     "data": {
      "text/plain": [
       "'\\n ans: There are two types of function :-\\nuser-defined functions > these types of function are defined by the user to perform\\nany specific task . ex. func(),etc.\\nBuilt-in Functions > These type of function are predefined function.\\nex. print() , len(),etc.\\n'"
      ]
     },
     "execution_count": 97,
     "metadata": {},
     "output_type": "execute_result"
    }
   ],
   "source": [
    "52.#How Many Basic Types Of Functions Are Available In Python?\n",
    "'''\n",
    " ans: There are two types of function :-\n",
    "user-defined functions > these types of function are defined by the user to perform\n",
    "any specific task . ex. func(),etc.\n",
    "Built-in Functions > These type of function are predefined function.\n",
    "ex. print() , len(),etc.\n",
    "'''"
   ]
  },
  {
   "cell_type": "code",
   "execution_count": 98,
   "id": "3b045c65",
   "metadata": {},
   "outputs": [
    {
     "name": "stdout",
     "output_type": "stream",
     "text": [
      "The given input tuple:  (30, 10, 'TutorialsPoint', 20, 'python', 'code')\n",
      "The generated random tuple item =  TutorialsPoint\n"
     ]
    }
   ],
   "source": [
    "53.#How can you pick a random item from a list or tuple?\n",
    "import random\n",
    "inputTuple = (30,10, \"TutorialsPoint\", 20, \"python\", \"code\")\n",
    "print(\"The given input tuple: \", inputTuple)\n",
    "randomItem = random.choice(inputTuple)\n",
    "print(\"The generated random tuple item = \", randomItem)"
   ]
  },
  {
   "cell_type": "code",
   "execution_count": 101,
   "id": "3c6a5063",
   "metadata": {},
   "outputs": [
    {
     "name": "stdout",
     "output_type": "stream",
     "text": [
      "Random Numbers from 1 to 20 are:\n",
      "3\n"
     ]
    }
   ],
   "source": [
    "54.#How can you pick a random item from a range?\n",
    "import random\n",
    "print('Random Numbers from 1 to 20 are:')\n",
    "x=random.randrange(1,50)\n",
    "print(x)"
   ]
  },
  {
   "cell_type": "code",
   "execution_count": 103,
   "id": "e24c3092",
   "metadata": {},
   "outputs": [
    {
     "name": "stdout",
     "output_type": "stream",
     "text": [
      "6\n"
     ]
    }
   ],
   "source": [
    "55.#How can you get a random number in python?\n",
    "import random\n",
    "print(random.randint(0,9))"
   ]
  },
  {
   "cell_type": "code",
   "execution_count": 104,
   "id": "e1351cec",
   "metadata": {},
   "outputs": [
    {
     "name": "stdout",
     "output_type": "stream",
     "text": [
      "21\n"
     ]
    }
   ],
   "source": [
    "56.#How will you set the starting value in generating random numbers? \n",
    "import random\n",
    "random_number = random.randint(1, 100)\n",
    "print(random_number)"
   ]
  },
  {
   "cell_type": "code",
   "execution_count": 107,
   "id": "79552f7c",
   "metadata": {},
   "outputs": [
    {
     "name": "stdout",
     "output_type": "stream",
     "text": [
      "Reshuffled list :  [30, 5, 15, 7]\n",
      "Reshuffled list :  [15, 7, 30, 5]\n"
     ]
    }
   ],
   "source": [
    "57.#How will you randomizes the items of a list in place?\n",
    "import random\n",
    "\n",
    "list = [30, 15, 7, 5];\n",
    "random.shuffle(list)\n",
    "print (\"Reshuffled list : \",  list)\n",
    "\n",
    "random.shuffle(list)\n",
    "print (\"Reshuffled list : \",  list)"
   ]
  },
  {
   "cell_type": "code",
   "execution_count": 1,
   "id": "c15682d1",
   "metadata": {},
   "outputs": [
    {
     "ename": "FileNotFoundError",
     "evalue": "[Errno 2] No such file or directory: 'test.txt'",
     "output_type": "error",
     "traceback": [
      "\u001b[1;31m---------------------------------------------------------------------------\u001b[0m",
      "\u001b[1;31mFileNotFoundError\u001b[0m                         Traceback (most recent call last)",
      "Cell \u001b[1;32mIn[1], line 6\u001b[0m\n\u001b[0;32m      4\u001b[0m     lines \u001b[38;5;241m=\u001b[39m \u001b[38;5;28mopen\u001b[39m(fname)\u001b[38;5;241m.\u001b[39mread()\u001b[38;5;241m.\u001b[39msplitlines()\n\u001b[0;32m      5\u001b[0m     \u001b[38;5;28;01mreturn\u001b[39;00m random\u001b[38;5;241m.\u001b[39mchoice(lines)\n\u001b[1;32m----> 6\u001b[0m \u001b[38;5;28mprint\u001b[39m(random_line(\u001b[38;5;124m'\u001b[39m\u001b[38;5;124mtest.txt\u001b[39m\u001b[38;5;124m'\u001b[39m))\n",
      "Cell \u001b[1;32mIn[1], line 4\u001b[0m, in \u001b[0;36mrandom_line\u001b[1;34m(fname)\u001b[0m\n\u001b[0;32m      3\u001b[0m \u001b[38;5;28;01mdef\u001b[39;00m \u001b[38;5;21mrandom_line\u001b[39m(fname):\n\u001b[1;32m----> 4\u001b[0m     lines \u001b[38;5;241m=\u001b[39m \u001b[38;5;28mopen\u001b[39m(fname)\u001b[38;5;241m.\u001b[39mread()\u001b[38;5;241m.\u001b[39msplitlines()\n\u001b[0;32m      5\u001b[0m     \u001b[38;5;28;01mreturn\u001b[39;00m random\u001b[38;5;241m.\u001b[39mchoice(lines)\n",
      "File \u001b[1;32m~\\anaconda3\\Lib\\site-packages\\IPython\\core\\interactiveshell.py:286\u001b[0m, in \u001b[0;36m_modified_open\u001b[1;34m(file, *args, **kwargs)\u001b[0m\n\u001b[0;32m    279\u001b[0m \u001b[38;5;28;01mif\u001b[39;00m file \u001b[38;5;129;01min\u001b[39;00m {\u001b[38;5;241m0\u001b[39m, \u001b[38;5;241m1\u001b[39m, \u001b[38;5;241m2\u001b[39m}:\n\u001b[0;32m    280\u001b[0m     \u001b[38;5;28;01mraise\u001b[39;00m \u001b[38;5;167;01mValueError\u001b[39;00m(\n\u001b[0;32m    281\u001b[0m         \u001b[38;5;124mf\u001b[39m\u001b[38;5;124m\"\u001b[39m\u001b[38;5;124mIPython won\u001b[39m\u001b[38;5;124m'\u001b[39m\u001b[38;5;124mt let you open fd=\u001b[39m\u001b[38;5;132;01m{\u001b[39;00mfile\u001b[38;5;132;01m}\u001b[39;00m\u001b[38;5;124m by default \u001b[39m\u001b[38;5;124m\"\u001b[39m\n\u001b[0;32m    282\u001b[0m         \u001b[38;5;124m\"\u001b[39m\u001b[38;5;124mas it is likely to crash IPython. If you know what you are doing, \u001b[39m\u001b[38;5;124m\"\u001b[39m\n\u001b[0;32m    283\u001b[0m         \u001b[38;5;124m\"\u001b[39m\u001b[38;5;124myou can use builtins\u001b[39m\u001b[38;5;124m'\u001b[39m\u001b[38;5;124m open.\u001b[39m\u001b[38;5;124m\"\u001b[39m\n\u001b[0;32m    284\u001b[0m     )\n\u001b[1;32m--> 286\u001b[0m \u001b[38;5;28;01mreturn\u001b[39;00m io_open(file, \u001b[38;5;241m*\u001b[39margs, \u001b[38;5;241m*\u001b[39m\u001b[38;5;241m*\u001b[39mkwargs)\n",
      "\u001b[1;31mFileNotFoundError\u001b[0m: [Errno 2] No such file or directory: 'test.txt'"
     ]
    }
   ],
   "source": [
    "58.#Write a Python program to read a random line from a file?\n",
    "import random\n",
    "def random_line(fname):\n",
    "    lines = open(fname).read().splitlines()\n",
    "    return random.choice(lines)\n",
    "print(random_line('test.txt'))\n"
   ]
  },
  {
   "cell_type": "code",
   "execution_count": 110,
   "id": "74e9a7f7",
   "metadata": {},
   "outputs": [
    {
     "name": "stdout",
     "output_type": "stream",
     "text": [
      "Enter degree:- 4\n",
      "0.06977777777777779\n"
     ]
    }
   ],
   "source": [
    "59.#Write a Python program to convert degree to radian\n",
    "# formula:- radians = degrees * (pi / 180)\n",
    "# degree > radian\n",
    "degree = int(input(\"Enter degree:- \"))\n",
    "radian = degree*(3.14/180)\n",
    "print(radian)"
   ]
  },
  {
   "cell_type": "code",
   "execution_count": 111,
   "id": "353d5331",
   "metadata": {},
   "outputs": [
    {
     "name": "stdout",
     "output_type": "stream",
     "text": [
      "Enter length 1 :-4\n",
      "Enter length 2 :-2\n",
      "Enter Heigth :-3\n",
      "9.0\n"
     ]
    }
   ],
   "source": [
    "60.#Write a Python program to calculate the area of a trapezoid\n",
    "# formula :- Area = (1/2) * (a + b) * h\n",
    "a=int(input(\"Enter length 1 :-\"))\n",
    "b=int(input(\"Enter length 2 :-\"))\n",
    "h=int(input(\"Enter Heigth :-\"))\n",
    "area=0.5*(a+b)*h\n",
    "print(area)"
   ]
  },
  {
   "cell_type": "code",
   "execution_count": 112,
   "id": "ac6256b7",
   "metadata": {},
   "outputs": [
    {
     "name": "stdout",
     "output_type": "stream",
     "text": [
      "Enter value of base :- 2\n",
      "Enter value of hiegth :-4\n",
      "8\n"
     ]
    }
   ],
   "source": [
    "61.#Write a Python program to calculate the area of a parallelogram\n",
    "# formula:- Area = base * height\n",
    "base= int(input(\"Enter value of base :- \"))\n",
    "height= int(input(\"Enter value of hiegth :-\"))\n",
    "area= base*height\n",
    "print(area)"
   ]
  },
  {
   "cell_type": "code",
   "execution_count": 115,
   "id": "a66a57a3",
   "metadata": {},
   "outputs": [
    {
     "name": "stdout",
     "output_type": "stream",
     "text": [
      "\n",
      "                    cylinder\n",
      "        1. surface\n",
      "        2. volume\n",
      "        3. area\n",
      "\n",
      "Enter any choice to find :-1\n",
      "Enter radius :-2\n",
      "Enter hieght :- 3\n",
      "surface of cylinder is :-  62.8\n"
     ]
    }
   ],
   "source": [
    "62.#Write a Python program to calculate surface volume and area of a cylinder \n",
    "# surface :- SA = 2πr**2 + 2πrh   \n",
    "# volume :- V = πr**2h\n",
    "# area :-  2 π r h\n",
    "print('''\n",
    "                    cylinder\n",
    "        1. surface\n",
    "        2. volume\n",
    "        3. area\n",
    "''')\n",
    "user=int(input(\"Enter any choice to find :-\"))\n",
    "if user==1:\n",
    "    radius=int(input(\"Enter radius :-\"))\n",
    "    hieght=int(input(\"Enter hieght :- \"))\n",
    "    surface=2*3.14*radius**2+2*3.14*radius*hieght\n",
    "    print(\"surface of cylinder is :- \",surface)\n",
    "elif user==2:\n",
    "    radius=int(input(\"Enter radius :-\"))\n",
    "    hieght=int(input(\"Enter hieght :- \"))\n",
    "    volume=3.14*radius**2*hieght\n",
    "    print(\"volume of cylinder is :- \",volume)\n",
    "elif user==3:\n",
    "    radius=int(input(\"Enter radius :-\"))\n",
    "    hieght=int(input(\"Enter hieght :- \"))\n",
    "    area=2*3.14*radius*hieght\n",
    "    print(\" Area of cylinder is :- \",area)"
   ]
  },
  {
   "cell_type": "code",
   "execution_count": 120,
   "id": "203e3284",
   "metadata": {},
   "outputs": [
    {
     "name": "stdout",
     "output_type": "stream",
     "text": [
      "Enter a value: 2\n",
      "1\n"
     ]
    }
   ],
   "source": [
    "63.#Write a Python program to returns sum of all divisors of a number?\n",
    "n=int(input('Enter a value: '))\n",
    "a=0\n",
    "for i in range(1, n):\n",
    "  if n % i ==0:\n",
    "    a += i\n",
    "else:\n",
    "  print(a)"
   ]
  },
  {
   "cell_type": "code",
   "execution_count": 117,
   "id": "c67d23b9",
   "metadata": {},
   "outputs": [
    {
     "name": "stdout",
     "output_type": "stream",
     "text": [
      "Maximum number: 4.669\n",
      "Minimum number:  0.577\n"
     ]
    }
   ],
   "source": [
    "64.#Write a Python program to find the maximum and minimum numbers from the specified decimal numbers.\n",
    "decimal_numbers = [3.14, 1.618, 2.718, 0.577, 4.669]\n",
    "\n",
    "maximum_number = max(decimal_numbers)\n",
    "minimum_number = min(decimal_numbers)\n",
    "\n",
    "print(\"Maximum number:\",maximum_number)\n",
    "print(\"Minimum number: \",minimum_number)"
   ]
  },
  {
   "cell_type": "code",
   "execution_count": null,
   "id": "57a71630",
   "metadata": {},
   "outputs": [],
   "source": []
  },
  {
   "cell_type": "code",
   "execution_count": null,
   "id": "4394db15",
   "metadata": {},
   "outputs": [],
   "source": []
  },
  {
   "cell_type": "code",
   "execution_count": null,
   "id": "ad3f7023",
   "metadata": {},
   "outputs": [],
   "source": []
  }
 ],
 "metadata": {
  "kernelspec": {
   "display_name": "Python 3 (ipykernel)",
   "language": "python",
   "name": "python3"
  },
  "language_info": {
   "codemirror_mode": {
    "name": "ipython",
    "version": 3
   },
   "file_extension": ".py",
   "mimetype": "text/x-python",
   "name": "python",
   "nbconvert_exporter": "python",
   "pygments_lexer": "ipython3",
   "version": "3.11.5"
  }
 },
 "nbformat": 4,
 "nbformat_minor": 5
}
