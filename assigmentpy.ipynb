{
 "cells": [
  {
   "cell_type": "code",
   "execution_count": 35,
   "id": "7463fb70",
   "metadata": {},
   "outputs": [
    {
     "name": "stdout",
     "output_type": "stream",
     "text": [
      "Enter a number: 5\n",
      "Positive number\n"
     ]
    }
   ],
   "source": [
    "# Write a Python program to check if a number is positive, negative or zero?\n",
    "\n",
    "n = float(input(\"Enter a number: \"))\n",
    "\n",
    "if n> 0:\n",
    "    print(\"Positive number\")\n",
    "elif n == 0:\n",
    "    print(\"Zero\")\n",
    "else:\n",
    "    print(\"Negative number\")"
   ]
  },
  {
   "cell_type": "code",
   "execution_count": 11,
   "id": "81b987bc",
   "metadata": {},
   "outputs": [
    {
     "name": "stdout",
     "output_type": "stream",
     "text": [
      "Enter a number: 6\n",
      "the factorial of 6 is 720\n"
     ]
    }
   ],
   "source": [
    "# Write a Python program to get the Factorial number of given number ?\n",
    " \n",
    "num=int(input('Enter a number: '))\n",
    "factorial=1\n",
    "\n",
    "#If number is negative\n",
    "if num<0:\n",
    "    print(\"factorial does not exits for nagetive number\")\n",
    "\n",
    "    #If number is 0\n",
    "elif num==0:\n",
    "    print(\"the factorial of 0 is 1\")\n",
    "\n",
    "    #If number is positive\n",
    "else:\n",
    "    for i in range(1, num+1):\n",
    "        factorial = factorial*i\n",
    "    print(\"the factorial of\",num,\"is\",factorial)   "
   ]
  },
  {
   "cell_type": "code",
   "execution_count": 12,
   "id": "508ed474",
   "metadata": {},
   "outputs": [
    {
     "name": "stdout",
     "output_type": "stream",
     "text": [
      "4\n",
      "1\n",
      "2\n"
     ]
    }
   ],
   "source": [
    "# Write a Python program to get the Fibonacci series of given range ?\n",
    " \n",
    "a=int(input())\n",
    "b=0\n",
    "c=1\n",
    "for i in range(2, a):\n",
    "    d=b+c\n",
    "    b=c\n",
    "    c=d\n",
    "    print(d)    "
   ]
  },
  {
   "cell_type": "code",
   "execution_count": 8,
   "id": "a9bd9d68",
   "metadata": {},
   "outputs": [],
   "source": [
    "# How memory is managed in Python?\n",
    "  \n",
    "# ans:-Memory management in Python involves a private heap containing all Python objects and data structures. The management of this private heap is ensured internally by the Python memory manager."
   ]
  },
  {
   "cell_type": "code",
   "execution_count": 9,
   "id": "7364a765",
   "metadata": {},
   "outputs": [],
   "source": [
    "# What is the purpose continue statement in python?\n",
    "\n",
    "# ans:-The continue keyword is used to end the current iteration in a for loop (or a while loop), and continues to the next iteration."
   ]
  },
  {
   "cell_type": "code",
   "execution_count": 16,
   "id": "21892ce6",
   "metadata": {},
   "outputs": [
    {
     "name": "stdout",
     "output_type": "stream",
     "text": [
      "Enter 1st number: 4\n",
      "Enter 2nd number: 6\n",
      "before swapping a=4 b=6\n",
      "after swapping a=6 b=4\n"
     ]
    }
   ],
   "source": [
    "# Write python program that swap two number with temp variable and without temp variable ?\n",
    "\n",
    "a=int(input('Enter 1st number: '))\n",
    "b=int(input('Enter 2nd number: '))\n",
    "print(f'before swapping a={a} b={b}')\n",
    "temp=a\n",
    "a=b\n",
    "b=temp\n",
    "print(f'after swapping a={a} b={b}')\n"
   ]
  },
  {
   "cell_type": "code",
   "execution_count": 23,
   "id": "78326c0f",
   "metadata": {},
   "outputs": [
    {
     "name": "stdout",
     "output_type": "stream",
     "text": [
      "Enter A Number: 6\n",
      "This number is Even\n"
     ]
    }
   ],
   "source": [
    "# Write a Python program to find whether a given number is even or odd, print out an appropriate message to the user ?\n",
    "\n",
    "number = int (input(\"Enter A Number: \"))\n",
    "if (number % 2) == 0:\n",
    " print(\"This number is Even\")\n",
    "else:\n",
    " print(\"This Number Is Odd\")"
   ]
  },
  {
   "cell_type": "code",
   "execution_count": 25,
   "id": "06477544",
   "metadata": {},
   "outputs": [
    {
     "name": "stdout",
     "output_type": "stream",
     "text": [
      "Enter a letter: l\n",
      "l is not vowel\n"
     ]
    }
   ],
   "source": [
    "# Write a Python program to test whether a passed letter is a vowel or not ?\n",
    "\n",
    "a=input('Enter a letter: ')\n",
    "if a=='a' or a=='e'or a=='i' or a=='o' or a=='u':\n",
    "    print(f'{a} is vowel')\n",
    "else:\n",
    "    print(f'{a} is not vowel')"
   ]
  },
  {
   "cell_type": "code",
   "execution_count": 28,
   "id": "43364982",
   "metadata": {},
   "outputs": [
    {
     "name": "stdout",
     "output_type": "stream",
     "text": [
      "Enter 1st number: 4\n",
      "Enter 2nd number: 2\n",
      "Enter 3rd number: 3\n",
      "9\n"
     ]
    }
   ],
   "source": [
    "# Write a Python program to sum of three given integers. However, if two values are equal sum will be zero ?\n",
    "\n",
    "a=int(input('Enter 1st number: '))\n",
    "b=int(input('Enter 2nd number: '))\n",
    "c=int(input('Enter 3rd number: '))\n",
    "if a==b or b==c or a==c:\n",
    "    print('sum=0')\n",
    "else:\n",
    "    sum=a+b+c\n",
    "    print(sum)"
   ]
  },
  {
   "cell_type": "code",
   "execution_count": 30,
   "id": "48ce1502",
   "metadata": {},
   "outputs": [
    {
     "name": "stdout",
     "output_type": "stream",
     "text": [
      "Enter 1st Value: 5\n",
      "Enter 2nd Value: 5\n",
      "True\n"
     ]
    }
   ],
   "source": [
    "# Write a Python program that will return true if the two given integer values are equal or their sum or difference is 5 ?\n",
    "\n",
    "x=int(input('Enter 1st Value: '))\n",
    "y=int(input('Enter 2nd Value: '))\n",
    "if x==y or (x+y)==5 or (x-y)==5 or (y-x)==5:\n",
    "    print(True)\n",
    "else:\n",
    "    print(False)"
   ]
  },
  {
   "cell_type": "code",
   "execution_count": 32,
   "id": "aca4fc12",
   "metadata": {},
   "outputs": [
    {
     "name": "stdout",
     "output_type": "stream",
     "text": [
      "Enter a number: 5\n",
      "5 is positive int. 15.0\n"
     ]
    }
   ],
   "source": [
    "#  Write a python program to sum of the first n positive integers ?\n",
    " \n",
    "a=int(input('Enter a number: '))\n",
    "b=((a*(a+1))/2)\n",
    "print(f'{a} is positive int. {b}')    "
   ]
  },
  {
   "cell_type": "code",
   "execution_count": 36,
   "id": "a338bc7f",
   "metadata": {},
   "outputs": [
    {
     "name": "stdout",
     "output_type": "stream",
     "text": [
      "Enter something here: mahipal malviya\n",
      "15\n"
     ]
    }
   ],
   "source": [
    "# Write a Python program to calculate the length of a string ?\n",
    "\n",
    "p=input('Enter something here: ')\n",
    "q=0\n",
    "for i in p:\n",
    "    q += 1\n",
    "else:\n",
    "    print(q)"
   ]
  },
  {
   "cell_type": "code",
   "execution_count": 40,
   "id": "242b3915",
   "metadata": {},
   "outputs": [
    {
     "name": "stdout",
     "output_type": "stream",
     "text": [
      "Enter a string: mahipal\n",
      "Character frequency:\n",
      "'m': 1\n",
      "'a': 2\n",
      "'h': 1\n",
      "'i': 1\n",
      "'p': 1\n",
      "'l': 1\n"
     ]
    }
   ],
   "source": [
    "# Write a Python program to count the number of characters (character frequency) in a string ?\n",
    "\n",
    "def count_characters(string):\n",
    "    \n",
    "    char_frequency = {}\n",
    "\n",
    "    for char in string:\n",
    "        if char in char_frequency:\n",
    "            char_frequency[char] += 1\n",
    "        else:\n",
    "            char_frequency[char] = 1\n",
    "\n",
    "    return char_frequency\n",
    "\n",
    "input_string = input(\"Enter a string: \")\n",
    "\n",
    "frequency = count_characters(input_string)\n",
    "\n",
    "print(\"Character frequency:\")\n",
    "for char, freq in frequency.items():\n",
    "    print(f\"'{char}': {freq}\")\n"
   ]
  },
  {
   "cell_type": "code",
   "execution_count": 7,
   "id": "d559e832",
   "metadata": {},
   "outputs": [],
   "source": [
    "# What are negative indexes and why are they used ?\n",
    "# ans:-  Negative Indexing is used to in Python to begin slicing from the end of the string i.e. the last. Slicing in Python gets a sub-string from a string. The slicing range is set as parameters i.e. start, stop and step.\n",
    "\n"
   ]
  },
  {
   "cell_type": "code",
   "execution_count": 4,
   "id": "337eedfe",
   "metadata": {},
   "outputs": [
    {
     "name": "stdout",
     "output_type": "stream",
     "text": [
      "21\n",
      "21\n"
     ]
    }
   ],
   "source": [
    "# Write a Python program to count occurrences of a substring in a string ?\n",
    "\n",
    "string=\"Hello tops technology\"\n",
    "count=0\n",
    "for i in string:\n",
    "    count+=1\n",
    "print(count)\n",
    "#using length()\n",
    "print(len(string))\n",
    "    \n"
   ]
  },
  {
   "cell_type": "code",
   "execution_count": 1,
   "id": "ede45448",
   "metadata": {},
   "outputs": [
    {
     "name": "stdout",
     "output_type": "stream",
     "text": [
      "Enter a string:- 2\n",
      "{'2': 1}\n"
     ]
    }
   ],
   "source": [
    "# Write a Python program to count the occurrences of each word in a given sentence ?\n",
    "\n",
    "user=input(\"Enter a string:- \")\n",
    "blank={}\n",
    "for i in user:\n",
    "    if i in blank:\n",
    "        blank[i]+=1\n",
    "    else:\n",
    "        blank[i]=1\n",
    "print(blank) \n"
   ]
  },
  {
   "cell_type": "code",
   "execution_count": 6,
   "id": "62f540b7",
   "metadata": {},
   "outputs": [],
   "source": [
    "# What are negative indexes and why are they used?\n",
    "\n",
    "# ans:- Negative Indexing is used to in Python to begin slicing from the end of the string.\n"
   ]
  },
  {
   "cell_type": "code",
   "execution_count": 10,
   "id": "33fa2880",
   "metadata": {},
   "outputs": [
    {
     "name": "stdout",
     "output_type": "stream",
     "text": [
      "1\n"
     ]
    }
   ],
   "source": [
    "# Write a Python program to count occurrences of a substring in a strin ?\n",
    "\n",
    "str1 = 'hello tops technology.'\n",
    "print(str1.count(\"tops\"))"
   ]
  },
  {
   "cell_type": "code",
   "execution_count": 11,
   "id": "a139b4a0",
   "metadata": {},
   "outputs": [
    {
     "name": "stdout",
     "output_type": "stream",
     "text": [
      "{'hello': 1, 'tops': 1, 'technology.': 1}\n"
     ]
    }
   ],
   "source": [
    "# Write a Python program to count the occurrences of each word in a given sentence?\n",
    "\n",
    "def word_count(str):\n",
    "    counts = dict()\n",
    "    words = str.split()\n",
    "\n",
    "    for word in words:\n",
    "        if word in counts:\n",
    "            counts[word] += 1\n",
    "        else:\n",
    "            counts[word] = 1\n",
    "\n",
    "    return counts\n",
    "\n",
    "print( word_count('hello tops technology.'))"
   ]
  },
  {
   "cell_type": "code",
   "execution_count": 12,
   "id": "2d207890",
   "metadata": {},
   "outputs": [
    {
     "name": "stdout",
     "output_type": "stream",
     "text": [
      "xyc abz\n"
     ]
    }
   ],
   "source": [
    "# Write a Python program to get a single string from two given strings, separated by a space and swap the first two characters of each string ?\n",
    "\n",
    "def chars_mix_up(a, b):\n",
    "  new_a = b[:2] + a[2:]\n",
    "  new_b = a[:2] + b[2:]\n",
    "\n",
    "  return new_a + ' ' + new_b\n",
    "print(chars_mix_up('abc', 'xyz'))"
   ]
  },
  {
   "cell_type": "code",
   "execution_count": 18,
   "id": "7fa75e3b",
   "metadata": {},
   "outputs": [
    {
     "name": "stdout",
     "output_type": "stream",
     "text": [
      "enter a character:-enter\n",
      "entering\n"
     ]
    }
   ],
   "source": [
    "''' Write a Python program to add 'ing' at the end of a given string (length \n",
    "should be at least 3). If the given string already ends with 'ing' then add \n",
    "'ly' instead if the string length of the given string is less than 3, leave it \n",
    "unchanged.\n",
    "'''\n",
    "str1=str(input(\"enter a character:-\"))\n",
    "length=len(str1)\n",
    "if length>2:\n",
    "    if str1[-3:]=='ing':\n",
    "        str1 +='ly'\n",
    "    else:\n",
    "        str1 +=\"ing\"\n",
    "print(str1)"
   ]
  },
  {
   "cell_type": "code",
   "execution_count": 20,
   "id": "4beff28a",
   "metadata": {},
   "outputs": [
    {
     "name": "stdout",
     "output_type": "stream",
     "text": [
      "Enter a string:- good\n",
      "good\n"
     ]
    }
   ],
   "source": [
    "''' Write a Python program to find the first appearance of the substring \n",
    "'not' and 'poor' from a given string, if 'not' follows the 'poor', replace the \n",
    "whole 'not'...'poor' substring with 'good'. Return the resulting string.'''\n",
    "\n",
    "a= input(\"Enter a string:- \")\n",
    "c=a.find(\"not\")\n",
    "d=a.find(\"poor\")\n",
    "if (c>=0 and d>=0):\n",
    "  a=a.replace(a[c:d+4],\"good\")\n",
    "print(a)"
   ]
  },
  {
   "cell_type": "code",
   "execution_count": 27,
   "id": "1945ab0c",
   "metadata": {},
   "outputs": [
    {
     "name": "stdout",
     "output_type": "stream",
     "text": [
      "longest word = third , length= 5\n"
     ]
    }
   ],
   "source": [
    "# Write a Python function that takes a list of words and returns the length of the longest one ?\n",
    "\n",
    "def long(words):\n",
    "    check=max(words,key=len)\n",
    "    print(\"longest word =\", check, \", length=\", len(check))\n",
    " # Driver Program\n",
    "a = [\"one\", \"two\", \"third\", \"four\"]\n",
    "long(a)"
   ]
  },
  {
   "cell_type": "code",
   "execution_count": 32,
   "id": "9f15fd2a",
   "metadata": {},
   "outputs": [
    {
     "name": "stdout",
     "output_type": "stream",
     "text": [
      "Enter the String :tops\n",
      "spot\n"
     ]
    }
   ],
   "source": [
    "# Write a Python function to reverses a string if its length is a multiple of 4 ?\n",
    "\n",
    "string=input(\"Enter the String :\")\n",
    "if len(string) % 4 == 0:\n",
    "   print(''.join(reversed(string)))\n",
    "else:\n",
    "   print(string)"
   ]
  },
  {
   "cell_type": "code",
   "execution_count": 33,
   "id": "c1475ebe",
   "metadata": {},
   "outputs": [
    {
     "name": "stdout",
     "output_type": "stream",
     "text": [
      "\n",
      "toop\n",
      "tops\n"
     ]
    }
   ],
   "source": [
    "'''Write a Python program to get a string made of the first 2 and the last \n",
    "2 chars from a given a string. If the string length is less than 2, return \n",
    "instead of the empty string. '''\n",
    "\n",
    "def string_both_ends(str):\n",
    "  if len(str) < 2:\n",
    "    return ''\n",
    "\n",
    "  return str[0:2] + str[-2:]\n",
    "\n",
    "print(string_both_ends('t'))\n",
    "print(string_both_ends('top'))\n",
    "print(string_both_ends('tops'))"
   ]
  },
  {
   "cell_type": "code",
   "execution_count": 36,
   "id": "6e1c6db1",
   "metadata": {},
   "outputs": [
    {
     "name": "stdout",
     "output_type": "stream",
     "text": [
      "[{Python}]\n"
     ]
    }
   ],
   "source": [
    "# Write a Python function to insert a string in the middle of a string ?\n",
    "\n",
    "def insert_string(str,word):\n",
    "    return str[:2] + word + str[2:]\n",
    "\n",
    "print(insert_string('[{}]', 'Python'))\n"
   ]
  },
  {
   "cell_type": "code",
   "execution_count": null,
   "id": "648ac1aa",
   "metadata": {},
   "outputs": [],
   "source": []
  },
  {
   "cell_type": "code",
   "execution_count": null,
   "id": "3782dec8",
   "metadata": {},
   "outputs": [],
   "source": []
  }
 ],
 "metadata": {
  "kernelspec": {
   "display_name": "Python 3 (ipykernel)",
   "language": "python",
   "name": "python3"
  },
  "language_info": {
   "codemirror_mode": {
    "name": "ipython",
    "version": 3
   },
   "file_extension": ".py",
   "mimetype": "text/x-python",
   "name": "python",
   "nbconvert_exporter": "python",
   "pygments_lexer": "ipython3",
   "version": "3.11.5"
  }
 },
 "nbformat": 4,
 "nbformat_minor": 5
}
