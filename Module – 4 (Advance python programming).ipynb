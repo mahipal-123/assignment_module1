{
 "cells": [
  {
   "cell_type": "code",
   "execution_count": 13,
   "id": "0501c6d6",
   "metadata": {},
   "outputs": [],
   "source": [
    "#1.What is File function in python? What is keywords to create and write file. \n",
    "'''\n",
    "Ans:- python file object provide methods  and attributes to access and manipulate files.using file object,we can read\n",
    "           and write any files.\n",
    "'''\n",
    "#Keyword to create file\n",
    "'''x : to create a file\n",
    "  w : to write into file & create a file  write will override the previous content of the file \n",
    "    it will replace new content with old content'''\n",
    "#File create\n",
    "'''create=open(\"basic.txt\",\"x\")\n",
    "create.close()'''\n",
    "#write in basic.txt\n",
    "file=open(\"basic.txt\",\"w\")\n",
    "file.write(\"Hello good morning\")\n",
    "file.close()"
   ]
  },
  {
   "cell_type": "code",
   "execution_count": 14,
   "id": "649ca876",
   "metadata": {},
   "outputs": [
    {
     "name": "stdout",
     "output_type": "stream",
     "text": [
      "Hello good morning\n"
     ]
    }
   ],
   "source": [
    "#2.Write a Python program to read an entire text file. \n",
    "\n",
    "\n",
    "read_1=open(\"basic.txt\",'r')\n",
    "print(read_1.read()) #read file\n",
    "read_1.close()"
   ]
  },
  {
   "cell_type": "code",
   "execution_count": 15,
   "id": "b48f13e3",
   "metadata": {},
   "outputs": [],
   "source": [
    "#3.Write a Python program to append text to a file and display the text.\n",
    "#a:- append text without removing old text\n",
    "app=open(\"basic.txt\",\"a\")\n",
    "app.write(\"\\nThis is a append text\")\n",
    "app.close()"
   ]
  },
  {
   "cell_type": "code",
   "execution_count": 16,
   "id": "939af185",
   "metadata": {},
   "outputs": [
    {
     "name": "stdout",
     "output_type": "stream",
     "text": [
      "Hello good morning\n",
      "\n"
     ]
    },
    {
     "data": {
      "text/plain": [
       "<function TextIOWrapper.close()>"
      ]
     },
     "execution_count": 16,
     "metadata": {},
     "output_type": "execute_result"
    }
   ],
   "source": [
    "#4.Write a Python program to read first n lines of a file.\n",
    "\n",
    "read=open(\"basic.txt\",\"r\")\n",
    "print(read.readline()) #First line print \n",
    "read.close"
   ]
  },
  {
   "cell_type": "code",
   "execution_count": 17,
   "id": "f749143d",
   "metadata": {},
   "outputs": [
    {
     "name": "stdout",
     "output_type": "stream",
     "text": [
      "['Hello good morning\\n', 'This is a append text']\n"
     ]
    }
   ],
   "source": [
    "#5.Write a Python program to read last n lines of a file. \n",
    "a_file = open(\"basic.txt\", \"r\")\n",
    "lines = a_file.readlines()\n",
    "last_lines = lines[-5:]\n",
    "print(last_lines)\n",
    "a_file.close()"
   ]
  },
  {
   "cell_type": "code",
   "execution_count": 18,
   "id": "d76629ce",
   "metadata": {},
   "outputs": [
    {
     "name": "stdout",
     "output_type": "stream",
     "text": [
      "['Hello good morning\\n', 'This is a append text']\n"
     ]
    }
   ],
   "source": [
    "#6.Write a Python program to read a file line by line and store it into a list\n",
    "#readlines:- store into list\n",
    "read=open(\"basic.txt\",\"r\")\n",
    "print(read.readlines()) \n",
    "read.close()"
   ]
  },
  {
   "cell_type": "code",
   "execution_count": 19,
   "id": "bf1389da",
   "metadata": {},
   "outputs": [
    {
     "name": "stdout",
     "output_type": "stream",
     "text": [
      "['Hello good morning\\n', 'This is a append text']\n"
     ]
    }
   ],
   "source": [
    "#7.Write a Python program to read a file line by line store it into a variable.\n",
    "\n",
    "read=open(\"basic.txt\",\"r\")\n",
    "#stored in variable\n",
    "a=read.readlines()\n",
    "print(a)\n",
    "read.close()"
   ]
  },
  {
   "cell_type": "code",
   "execution_count": 12,
   "id": "d71bd867",
   "metadata": {},
   "outputs": [
    {
     "name": "stdout",
     "output_type": "stream",
     "text": [
      "Enter sentence: mahipal\n",
      "Longest word is:  mahipal\n",
      "length is:  7\n"
     ]
    }
   ],
   "source": [
    "#8.Write a python program to find the longest words. \n",
    "sentence = input(\"Enter sentence: \")\n",
    "longest = max(sentence.split(), key=len)\n",
    "print(\"Longest word is: \", longest)\n",
    "print(\"length is: \", len(longest))"
   ]
  },
  {
   "cell_type": "code",
   "execution_count": 20,
   "id": "bd703d85",
   "metadata": {},
   "outputs": [
    {
     "name": "stdout",
     "output_type": "stream",
     "text": [
      "The file basic.txt has 2 lines.\n"
     ]
    }
   ],
   "source": [
    "#9.Write a Python program to count the number of lines in a text file. \n",
    "def count_lines(filename):\n",
    "    with open(filename, 'r') as file:\n",
    "        lines = file.readlines()\n",
    "    return len(lines)\n",
    " \n",
    "filename = 'basic.txt'  \n",
    "print(f'The file {filename} has {count_lines(filename)} lines.')"
   ]
  },
  {
   "cell_type": "code",
   "execution_count": 22,
   "id": "55735db5",
   "metadata": {},
   "outputs": [
    {
     "name": "stdout",
     "output_type": "stream",
     "text": [
      "Occurrences of the word good : 1\n"
     ]
    }
   ],
   "source": [
    "#10.Write a Python program to count the frequency of words in a file.\n",
    "# Initialize variables\n",
    "word = \"good\"\n",
    "count = 0\n",
    "\n",
    "# Open the file \"basic.txt\" in read mode ('r')\n",
    "with open(\"basic.txt\", 'r') as f: \n",
    "    for line in f: \n",
    "        # Split the line into a list of words\n",
    "        words = line.split() \n",
    "        for i in words: \n",
    "            if(i==word): \n",
    "        # Increment the count if a match is found\n",
    "                count=count+1\n",
    "print(\"Occurrences of the word\", word, \":\", count)"
   ]
  },
  {
   "cell_type": "code",
   "execution_count": 2,
   "id": "c5f08189",
   "metadata": {},
   "outputs": [],
   "source": [
    "#11.Write a Python program to write a list to a file.\n",
    "items = ['Table ', 'Chair ', 'Mirror ', 'Curtain ', 'Almirah ']\n",
    "file = open('items.txt','w')\n",
    "file.writelines(items)\n",
    "file.close()"
   ]
  },
  {
   "cell_type": "code",
   "execution_count": 4,
   "id": "5048baf3",
   "metadata": {},
   "outputs": [],
   "source": [
    "# 12. Write a Python program to copy the contents of a file to another file.\n",
    "with open(\"items.txt\") as f:\n",
    "    with open(\"basic.txt\", \"w\") as f1:\n",
    "        for line in f:\n",
    "            f1.write(line)"
   ]
  },
  {
   "cell_type": "code",
   "execution_count": 5,
   "id": "4b89b557",
   "metadata": {},
   "outputs": [
    {
     "data": {
      "text/plain": [
       "'\\nException handling is a programming concept that allows developers to handle unexpected or exceptional\\nsituations that can occur during the execution of a program.\\nExceptions are runtime errors and can be handled using try-except blocks.\\n\\n'"
      ]
     },
     "execution_count": 5,
     "metadata": {},
     "output_type": "execute_result"
    }
   ],
   "source": [
    "# 13 Explain Exception handling? What is an Error in Python? \n",
    "'''\n",
    "Exception handling is a programming concept that allows developers to handle unexpected or exceptional\n",
    "situations that can occur during the execution of a program.\n",
    "Exceptions are runtime errors and can be handled using try-except blocks.\n",
    "\n",
    "'''"
   ]
  },
  {
   "cell_type": "code",
   "execution_count": 6,
   "id": "c9a5e534",
   "metadata": {},
   "outputs": [
    {
     "data": {
      "text/plain": [
       "'\\nA try-except block in Python can have one or more except statements to handle different types of exceptions.\\nYou can catch and handle multiple exceptions by specifying multiple except blocks\\n'"
      ]
     },
     "execution_count": 6,
     "metadata": {},
     "output_type": "execute_result"
    }
   ],
   "source": [
    "# 14. How many except statements can a try-except block have? Name Some built-in exception classes: \n",
    "'''\n",
    "A try-except block in Python can have one or more except statements to handle different types of exceptions.\n",
    "You can catch and handle multiple exceptions by specifying multiple except blocks\n",
    "'''"
   ]
  },
  {
   "cell_type": "code",
   "execution_count": 7,
   "id": "c7cfadc5",
   "metadata": {},
   "outputs": [
    {
     "data": {
      "text/plain": [
       "'\\nIn a try-except-else block in Python,the else part is executed when no exceptions are raised in the try block.\\n'"
      ]
     },
     "execution_count": 7,
     "metadata": {},
     "output_type": "execute_result"
    }
   ],
   "source": [
    "# 15. When will the else part of try-except-else be executed? \n",
    "'''\n",
    "In a try-except-else block in Python,the else part is executed when no exceptions are raised in the try block.\n",
    "'''"
   ]
  },
  {
   "cell_type": "code",
   "execution_count": 8,
   "id": "bba836d3",
   "metadata": {},
   "outputs": [
    {
     "data": {
      "text/plain": [
       "'\\n Yes, you can use a single except block to handle multiple exceptions in Python. To do this, you can specify\\n a tuple of exception types inside the except block.\\n ex:- except (execetipn 1....,exception 2.....)\\n'"
      ]
     },
     "execution_count": 8,
     "metadata": {},
     "output_type": "execute_result"
    }
   ],
   "source": [
    "# 16. Can one block of except statements handle multiple exception?\n",
    "'''\n",
    " Yes, you can use a single except block to handle multiple exceptions in Python. To do this, you can specify\n",
    " a tuple of exception types inside the except block.\n",
    " ex:- except (execetipn 1....,exception 2.....)\n",
    "'''"
   ]
  },
  {
   "cell_type": "code",
   "execution_count": 9,
   "id": "1d1e43cd",
   "metadata": {},
   "outputs": [
    {
     "data": {
      "text/plain": [
       "'\\n    Code that always executes, even if there was an exception or not\\n'"
      ]
     },
     "execution_count": 9,
     "metadata": {},
     "output_type": "execute_result"
    }
   ],
   "source": [
    "# 17. When is the finally block executed? \n",
    "'''\n",
    "    Code that always executes, even if there was an exception or not\n",
    "'''"
   ]
  },
  {
   "cell_type": "code",
   "execution_count": 10,
   "id": "155ae3b9",
   "metadata": {},
   "outputs": [
    {
     "name": "stdout",
     "output_type": "stream",
     "text": [
      "False\n"
     ]
    },
    {
     "data": {
      "text/plain": [
       "'\\nAns:- Display False \\n'"
      ]
     },
     "execution_count": 10,
     "metadata": {},
     "output_type": "execute_result"
    }
   ],
   "source": [
    "# 18.What happens when „1‟== 1 is executed? \n",
    "a='1'==1\n",
    "print(a)\n",
    "'''\n",
    "Ans:- Display False \n",
    "'''"
   ]
  },
  {
   "cell_type": "code",
   "execution_count": 11,
   "id": "5ace9e02",
   "metadata": {},
   "outputs": [
    {
     "ename": "SyntaxError",
     "evalue": "invalid syntax (3080054319.py, line 2)",
     "output_type": "error",
     "traceback": [
      "\u001b[1;36m  Cell \u001b[1;32mIn[11], line 2\u001b[1;36m\u001b[0m\n\u001b[1;33m    Explain with coding snippets.\u001b[0m\n\u001b[1;37m            ^\u001b[0m\n\u001b[1;31mSyntaxError\u001b[0m\u001b[1;31m:\u001b[0m invalid syntax\n"
     ]
    }
   ],
   "source": [
    "#19.How Do You Handle Exceptions With Try/Except/Finally In Python? \n",
    "Explain with coding snippets. \n",
    "try:\n",
    "    numerator = 10\n",
    "    denominator = 0\n",
    "\n",
    "    result = numerator/denominator\n",
    "\n",
    "    print(result)\n",
    "except:\n",
    "    print(\"Error: Denominator cannot be 0.\")"
   ]
  },
  {
   "cell_type": "code",
   "execution_count": 13,
   "id": "38e97d85",
   "metadata": {},
   "outputs": [
    {
     "name": "stdout",
     "output_type": "stream",
     "text": [
      "Enter an odd number: 6\n",
      "Even number entered. Please enter an odd number.\n",
      "Enter an odd number: 8\n",
      "Even number entered. Please enter an odd number.\n",
      "Enter an odd number: 8\n",
      "Even number entered. Please enter an odd number.\n",
      "Enter an odd number: 5\n",
      "You entered an odd number: 5\n"
     ]
    }
   ],
   "source": [
    "''' 20.Write python program that user to enter only odd numbers, else will\n",
    "raise an exception. '''\n",
    "while True:\n",
    "    try:\n",
    "        number = int(input(\"Enter an odd number: \"))\n",
    "        if number % 2 == 0:\n",
    "            raise ValueError(\"Even number entered. Please enter an odd number.\")\n",
    "        else:\n",
    "            print(\"You entered an odd number:\", number)\n",
    "            break  \n",
    "    except ValueError as e:\n",
    "        print(e)"
   ]
  },
  {
   "cell_type": "code",
   "execution_count": 14,
   "id": "53b1cd3b",
   "metadata": {},
   "outputs": [
    {
     "data": {
      "text/plain": [
       "'21.What are oops concepts? Is multiple inheritance supported in java\\nAns:-\\n         Object-Oriented Programming (OOP) is a programming paradigm\\n         that is based on the concept of \"objects.\" Objects represent real-world entities\\n         and encapsulate both data (attributes or properties) and the methods (functions)\\n         that operate on that data.\\n\\n\\n        Java supports single inheritance, meaning a class can inherit from only one superclass.\\n        Java supports multiple interfaces.\\n'"
      ]
     },
     "execution_count": 14,
     "metadata": {},
     "output_type": "execute_result"
    }
   ],
   "source": [
    "'''21.What are oops concepts? Is multiple inheritance supported in java\n",
    "Ans:-\n",
    "         Object-Oriented Programming (OOP) is a programming paradigm\n",
    "         that is based on the concept of \"objects.\" Objects represent real-world entities\n",
    "         and encapsulate both data (attributes or properties) and the methods (functions)\n",
    "         that operate on that data.\n",
    "\n",
    "\n",
    "        Java supports single inheritance, meaning a class can inherit from only one superclass.\n",
    "        Java supports multiple interfaces.\n",
    "'''"
   ]
  },
  {
   "cell_type": "code",
   "execution_count": 15,
   "id": "8c66aa65",
   "metadata": {},
   "outputs": [
    {
     "ename": "SyntaxError",
     "evalue": "invalid syntax (1664658357.py, line 2)",
     "output_type": "error",
     "traceback": [
      "\u001b[1;36m  Cell \u001b[1;32mIn[15], line 2\u001b[1;36m\u001b[0m\n\u001b[1;33m    A Python Class.\u001b[0m\n\u001b[1;37m      ^\u001b[0m\n\u001b[1;31mSyntaxError\u001b[0m\u001b[1;31m:\u001b[0m invalid syntax\n"
     ]
    }
   ],
   "source": [
    "#22.How to Define a Class in Python? What Is Self? Give An Example Of \n",
    "A Python Class.\n",
    "'''\n",
    "Ans:-\n",
    "         define a class using the class keyword. A class is a blueprint for creating\n",
    "         objects (instances) that have attributes and methods. The self keyword is\n",
    "         used as the first parameter of class methods to refer to the instance of the class.\n",
    "         It is similar to this in some other programming languages.\n",
    "\n",
    "         \n",
    "'''\n",
    "class ClassName:\n",
    "    \n",
    "    def __init__(self, parameter1, parameter2):\n",
    "        self.instance_attribute1 = parameter1\n",
    "        self.instance_attribute2 = parameter2\n",
    "    \n",
    "    def instance_method(self):\n",
    "        print(\"Instance method called with attribute values:\", self.instance_attribute1, self.instance_attribute2)"
   ]
  },
  {
   "cell_type": "code",
   "execution_count": 16,
   "id": "a1bb9aff",
   "metadata": {},
   "outputs": [
    {
     "name": "stdout",
     "output_type": "stream",
     "text": [
      "Area of the rectangle: 15\n"
     ]
    }
   ],
   "source": [
    "'''\n",
    "23.Write a Python class named Rectangle constructed by a length and\n",
    "width and a method which will compute the area of a rectangle\n",
    "\n",
    "'''\n",
    "class Rectangle:\n",
    "    def __init__(self, length, width):\n",
    "        self.length = length\n",
    "        self.width = width\n",
    "\n",
    "    def compute_area(self):\n",
    "        return self.length * self.width\n",
    "\n",
    "rectangle = Rectangle(5, 3)\n",
    "\n",
    "area = rectangle.compute_area()\n",
    "print(\"Area of the rectangle:\", area)"
   ]
  },
  {
   "cell_type": "code",
   "execution_count": 17,
   "id": "d1b830d7",
   "metadata": {},
   "outputs": [
    {
     "name": "stdout",
     "output_type": "stream",
     "text": [
      "Radius: 5.0\n",
      "Area: 78.53981633974483\n",
      "Perimeter: 31.41592653589793\n"
     ]
    }
   ],
   "source": [
    "'''\n",
    "24.Write a Python class named Circle constructed by a radius and two\n",
    "methods which will compute the area and the perimeter of a circle \n",
    "'''\n",
    "\n",
    "class Circle:\n",
    "    def __init__(self, radius):\n",
    "        self.radius = radius\n",
    "\n",
    "    def area(self):\n",
    "        return 3.14159265358979323846 * (self.radius ** 2)\n",
    "\n",
    "    def perimeter(self):\n",
    "        return 2 * 3.14159265358979323846 * self.radius\n",
    "    \n",
    "radius = 5.0  \n",
    "my_circle = Circle(radius)\n",
    "\n",
    "print(\"Radius:\", my_circle.radius)\n",
    "print(\"Area:\", my_circle.area())\n",
    "print(\"Perimeter:\", my_circle.perimeter())\n"
   ]
  },
  {
   "cell_type": "code",
   "execution_count": 18,
   "id": "2f14a84b",
   "metadata": {},
   "outputs": [
    {
     "name": "stdout",
     "output_type": "stream",
     "text": [
      "Buddy says Woof!\n",
      "Whiskers says Meow!\n"
     ]
    }
   ],
   "source": [
    "'''\n",
    "25.Explain Inheritance in Python with an example? What is init? Or What\n",
    "Is A Constructor In Python?\n",
    "\n",
    "Inheritance is a fundamental concept in object-oriented programming that allows\n",
    "you to create a new class that inherits attributes and methods from an existing class.\n",
    "The new class is often referred to as a \"subclass\" or \"child class,\" and the existing class\n",
    "is called the \"superclass\" or \"parent class.\" Inheritance allows you to reuse and extend the\n",
    "functionality of an existing class,promoting code reusability and maintaining a hierarchical\n",
    "relationship between classes.\n",
    "\n",
    "the __init__ method is a special method known as a constructor. It's used to initialize the\n",
    "attributes or properties of an object when an instance of a class is created.\n",
    "The constructor is automatically called when you create an object of that class.\n",
    "\n",
    "'''\n",
    "class Animal:\n",
    "    def __init__(self, name):\n",
    "        self.name = name\n",
    "\n",
    "    def speak(self):\n",
    "        pass\n",
    "\n",
    "class Dog(Animal):\n",
    "    def speak(self):\n",
    "        return f\"{self.name} says Woof!\"\n",
    "\n",
    "class Cat(Animal):\n",
    "    def speak(self):\n",
    "        return f\"{self.name} says Meow!\"\n",
    "dog = Dog(\"Buddy\")\n",
    "cat = Cat(\"Whiskers\")\n",
    "\n",
    "print(dog.speak())\n",
    "print(cat.speak())  "
   ]
  },
  {
   "cell_type": "code",
   "execution_count": 19,
   "id": "19a74b57",
   "metadata": {},
   "outputs": [
    {
     "data": {
      "text/plain": [
       "\"\\n26.What is Instantiation in terms of OOP terminology?\\nAns:-\\n       In Object-Oriented Programming (OOP) terminology, instantiation refers to the process\\n       of creating an instance (object) of a class. An instance is a concrete, individual representation\\n       of a class, and it has its own unique attributes and can perform actions as defined by the class.\\n\\nClass Definition: In OOP, you define a class to create a blueprint or a template for objects.\\nA class specifies the attributes (data) and methods (functions) that its instances will have.\\n\\nObject Creation: To use a class, you create one or more instances of that class. This process of creating an instance is called instantiation.\\n\\nAttributes and Methods: Each instance of a class has its own set of attributes, which are often initialized\\nduring instantiation using a constructor method (e.g., __init__ in Python).\\nInstances can also call the methods defined in the class.\\n\\nIndependence: Instances created from the same class are independent of each other. Changes to one\\ninstance's attributes or method invocations do not affect other instances of the same class.\\n\""
      ]
     },
     "execution_count": 19,
     "metadata": {},
     "output_type": "execute_result"
    }
   ],
   "source": [
    "'''\n",
    "26.What is Instantiation in terms of OOP terminology?\n",
    "Ans:-\n",
    "       In Object-Oriented Programming (OOP) terminology, instantiation refers to the process\n",
    "       of creating an instance (object) of a class. An instance is a concrete, individual representation\n",
    "       of a class, and it has its own unique attributes and can perform actions as defined by the class.\n",
    "\n",
    "Class Definition: In OOP, you define a class to create a blueprint or a template for objects.\n",
    "A class specifies the attributes (data) and methods (functions) that its instances will have.\n",
    "\n",
    "Object Creation: To use a class, you create one or more instances of that class. This process of creating an instance is called instantiation.\n",
    "\n",
    "Attributes and Methods: Each instance of a class has its own set of attributes, which are often initialized\n",
    "during instantiation using a constructor method (e.g., __init__ in Python).\n",
    "Instances can also call the methods defined in the class.\n",
    "\n",
    "Independence: Instances created from the same class are independent of each other. Changes to one\n",
    "instance's attributes or method invocations do not affect other instances of the same class.\n",
    "'''"
   ]
  },
  {
   "cell_type": "code",
   "execution_count": 20,
   "id": "c47a3ff7",
   "metadata": {},
   "outputs": [
    {
     "name": "stdout",
     "output_type": "stream",
     "text": [
      "obj is an instance of class A\n"
     ]
    }
   ],
   "source": [
    "'''\n",
    "  27. What is used to check whether an object o is an instance of class A? \n",
    "'''\n",
    "class A:\n",
    "    pass\n",
    "obj = A()\n",
    "if isinstance(obj, A):\n",
    "    print(\"obj is an instance of class A\")\n",
    "else:\n",
    "    print(\"obj is not an instance of class A\")"
   ]
  },
  {
   "cell_type": "code",
   "execution_count": 24,
   "id": "327300c3",
   "metadata": {},
   "outputs": [],
   "source": [
    "'''\n",
    "28.What relationship is appropriate for Course and Faculty?\n",
    "\n",
    "'''\n",
    "class Faculty:\n",
    "    def __init__(self, name, department):\n",
    "        self.name = name\n",
    "        self.department = department\n",
    "\n",
    "class Course:\n",
    "    def __init__(self, course_code, course_name, faculty):\n",
    "        self.course_code = course_code\n",
    "        self.course_name = course_name\n",
    "        self.faculty = faculty\n",
    "faculty1 = Faculty(\"Dr. Mahipal malviuya\", \"Computer Science\")\n",
    "faculty2 = Faculty(\"Prof. Ayush\", \"Mathematics\")\n",
    "\n",
    "course1 = Course(\"BCA\", \"Introduction to Programming\", faculty1)\n",
    "course2 = Course(\"Btech\", \"Maths\", faculty2)"
   ]
  },
  {
   "cell_type": "code",
   "execution_count": 25,
   "id": "7f2e3fd3",
   "metadata": {},
   "outputs": [],
   "source": [
    "'''\n",
    "29.What relationship is appropriate for Student and Person?\n",
    "'''\n",
    "class Person:\n",
    "    def __init__(self, name, age):\n",
    "        self.name = name\n",
    "        self.age = age\n",
    "\n",
    "class Student(Person):\n",
    "    def __init__(self, name, age, student_id):\n",
    "        super().__init__(name, age)\n",
    "        self.student_id = student_id\n",
    "\n",
    "person1 = Person(\"John Smith\", 30)\n",
    "student1 = Student(\"Alice Johnson\", 20, \"S12345\")"
   ]
  },
  {
   "cell_type": "code",
   "execution_count": 26,
   "id": "a163ff8c",
   "metadata": {},
   "outputs": [
    {
     "ename": "SyntaxError",
     "evalue": "invalid syntax (479533970.py, line 1)",
     "output_type": "error",
     "traceback": [
      "\u001b[1;36m  Cell \u001b[1;32mIn[26], line 1\u001b[1;36m\u001b[0m\n\u001b[1;33m    Table Chair Mirror Curtain Almirah\u001b[0m\n\u001b[1;37m          ^\u001b[0m\n\u001b[1;31mSyntaxError\u001b[0m\u001b[1;31m:\u001b[0m invalid syntax\n"
     ]
    }
   ],
   "source": [
    "Table Chair Mirror Curtain Almirah "
   ]
  },
  {
   "cell_type": "code",
   "execution_count": null,
   "id": "58d6a87f",
   "metadata": {},
   "outputs": [],
   "source": []
  }
 ],
 "metadata": {
  "kernelspec": {
   "display_name": "Python 3 (ipykernel)",
   "language": "python",
   "name": "python3"
  },
  "language_info": {
   "codemirror_mode": {
    "name": "ipython",
    "version": 3
   },
   "file_extension": ".py",
   "mimetype": "text/x-python",
   "name": "python",
   "nbconvert_exporter": "python",
   "pygments_lexer": "ipython3",
   "version": "3.11.5"
  }
 },
 "nbformat": 4,
 "nbformat_minor": 5
}
